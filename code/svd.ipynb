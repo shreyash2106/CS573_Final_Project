{
 "cells": [
  {
   "cell_type": "code",
   "execution_count": 10,
   "metadata": {},
   "outputs": [],
   "source": [
    "import pandas as pd\n",
    "import numpy as np\n",
    "np.random.seed(10)"
   ]
  },
  {
   "cell_type": "code",
   "execution_count": 11,
   "metadata": {},
   "outputs": [
    {
     "name": "stdout",
     "output_type": "stream",
     "text": [
      "   duration (ms)  danceability  energy  loudness  speechiness  acousticness  \\\n",
      "0       324240.0      0.407733   0.714  0.664428     0.311258      0.473896   \n",
      "1       285753.0      0.177466   0.101  0.115246     0.313907      0.997992   \n",
      "2       180570.0      0.429153   0.872  0.632533     0.287417      0.002651   \n",
      "3       191153.0      0.500910   0.816  0.665492     0.582207      0.068976   \n",
      "4       207416.0      0.627289   0.759  0.625890     0.198013      0.457831   \n",
      "\n",
      "   instrumentalness  liveness  valence     tempo     spec_rate  labels  \\\n",
      "0          0.000000  0.881797    0.216  0.400413  1.449544e-07     0.0   \n",
      "1          0.382000  0.307329    0.122  0.624017  1.658775e-07     0.0   \n",
      "2          0.000529  0.416076    0.690  0.731116  2.403500e-07     2.0   \n",
      "3          0.000000  0.401891    0.885  0.848131  4.754654e-07     1.0   \n",
      "4          0.721000  0.225532    0.738  0.515581  1.441547e-07     0.0   \n",
      "\n",
      "                                    uri  user_id  group_no  \n",
      "0  spotify:track:0lyvsvBtj2j0Edikx2fjhw        1         2  \n",
      "1  spotify:track:1gMc3PHvlQbOCChXj3ySHH        1         2  \n",
      "2  spotify:track:5WXSmZUK7MAtkcKoBPFyHm        1         2  \n",
      "3  spotify:track:3GSGkA3RNWcpjKGwTDps0M        1         2  \n",
      "4  spotify:track:5b6z5ySwNBomo3Ia7WeECC        1         2  \n"
     ]
    }
   ],
   "source": [
    "user_data = pd.read_csv('../datasets/simulated_user_dataset.csv')\n",
    "print(user_data.head())"
   ]
  },
  {
   "cell_type": "code",
   "execution_count": 12,
   "metadata": {},
   "outputs": [],
   "source": [
    "from scipy.sparse.linalg import svds\n",
    "\n",
    "def create_user_item_matrix(df):\n",
    "    \"\"\"\n",
    "    Step 1: Create the user-item matrix\n",
    "    - Rows represent users\n",
    "    - Columns represent songs (items)\n",
    "    - Values represent the interaction score\n",
    "    \"\"\"\n",
    "    # First, let's create an interaction score based on the features\n",
    "    feature_columns = [\n",
    "        'danceability', 'energy', 'loudness', 'speechiness',\n",
    "        'acousticness', 'instrumentalness', 'liveness', 'valence', 'tempo',\n",
    "        'duration (ms)', 'spec_rate', 'labels'\n",
    "    ]\n",
    "    \n",
    "    # Create an interaction score (average of normalized features)\n",
    "    df['interaction_score'] = np.mean(df[feature_columns], axis=1)\n",
    "    \n",
    "    # Create the user-item matrix\n",
    "    user_item_matrix = df.pivot_table(\n",
    "        index='user_id',\n",
    "        columns='uri',\n",
    "        values='interaction_score',\n",
    "        fill_value=0\n",
    "    )\n",
    "    \n",
    "    return user_item_matrix"
   ]
  },
  {
   "cell_type": "code",
   "execution_count": 13,
   "metadata": {},
   "outputs": [],
   "source": [
    "\n",
    "def perform_svd(matrix, k=10):\n",
    "    \"\"\"\n",
    "    Step 2: Perform SVD on the matrix\n",
    "    - Decompose matrix into U, Sigma, and V matrices\n",
    "    - k is the number of latent factors\n",
    "    \"\"\"\n",
    "    # Convert to numpy array\n",
    "    matrix_numpy = matrix.values\n",
    "    \n",
    "    # Center the matrix (subtract mean)\n",
    "    matrix_mean = np.mean(matrix_numpy, axis=1)\n",
    "    matrix_centered = matrix_numpy - matrix_mean.reshape(-1, 1)\n",
    "    \n",
    "    # Perform SVD\n",
    "    U, sigma, Vt = svds(matrix_centered, k=k)\n",
    "    \n",
    "    # Convert sigma to diagonal matrix\n",
    "    sigma = np.diag(sigma)\n",
    "    \n",
    "    return U, sigma, Vt, matrix_mean\n",
    "\n",
    "def reconstruct_matrix(U, sigma, Vt, matrix_mean):\n",
    "    \"\"\"\n",
    "    Step 3: Reconstruct the matrix to get predictions\n",
    "    - Multiply U, sigma, and V transpose\n",
    "    - Add back the mean\n",
    "    \"\"\"\n",
    "    # Reconstruct the matrix\n",
    "    predictions = np.dot(np.dot(U, sigma), Vt)\n",
    "    \n",
    "    # Add the mean back\n",
    "    predictions += matrix_mean.reshape(-1, 1)\n",
    "    \n",
    "    return predictions\n",
    "\n",
    "def get_recommendations(predictions, user_item_matrix, user_id, n_recommendations=5):\n",
    "    \"\"\"\n",
    "    Step 4: Generate recommendations for a user\n",
    "    - Find songs the user hasn't interacted with\n",
    "    - Rank them by predicted score\n",
    "    \"\"\"\n",
    "    # Get user index\n",
    "    user_idx = user_item_matrix.index.get_loc(user_id)\n",
    "    \n",
    "    # Get song indices and names\n",
    "    song_indices = np.arange(user_item_matrix.shape[1])\n",
    "    song_names = user_item_matrix.columns\n",
    "    \n",
    "    # Get user's predictions\n",
    "    user_predictions = predictions[user_idx]\n",
    "    \n",
    "    # Get indices of songs user hasn't interacted with\n",
    "    user_songs = user_item_matrix.iloc[user_idx].values\n",
    "    unlistened_songs = song_indices[user_songs == 0]\n",
    "    \n",
    "    # Get predictions for unlistened songs\n",
    "    unlistened_predictions = user_predictions[unlistened_songs]\n",
    "    \n",
    "    # Get top N recommendations\n",
    "    top_n_idx = np.argsort(unlistened_predictions)[-n_recommendations:][::-1]\n",
    "    recommended_song_indices = unlistened_songs[top_n_idx]\n",
    "    recommended_songs = song_names[recommended_song_indices]\n",
    "    \n",
    "    return recommended_songs, user_predictions[recommended_song_indices]"
   ]
  },
  {
   "cell_type": "code",
   "execution_count": 14,
   "metadata": {},
   "outputs": [],
   "source": [
    "def main_svd_pipeline(df, n_factors=10):\n",
    "    \"\"\"\n",
    "    Run the complete SVD pipeline\n",
    "    \"\"\"\n",
    "    # Step 1: Create user-item matrix\n",
    "    print(\"Creating user-item matrix...\")\n",
    "    user_item_matrix = create_user_item_matrix(df)\n",
    "    print(f\"Matrix shape: {user_item_matrix.shape}\")\n",
    "    \n",
    "    # Step 2: Perform SVD\n",
    "    print(\"\\nPerforming SVD...\")\n",
    "    U, sigma, Vt, matrix_mean = perform_svd(user_item_matrix, k=n_factors)\n",
    "    print(f\"U shape: {U.shape}\")\n",
    "    print(f\"Sigma shape: {sigma.shape}\")\n",
    "    print(f\"V^T shape: {Vt.shape}\")\n",
    "    \n",
    "    # Step 3: Generate predictions\n",
    "    print(\"\\nGenerating predictions...\")\n",
    "    predictions = reconstruct_matrix(U, sigma, Vt, matrix_mean)\n",
    "    \n",
    "    return user_item_matrix, predictions\n",
    "\n",
    "# Example usage\n",
    "def demonstrate_recommendations(df):\n",
    "    \"\"\"\n",
    "    Demonstrate the recommendation system\n",
    "    \"\"\"\n",
    "    # Run SVD pipeline\n",
    "    user_item_matrix, predictions = main_svd_pipeline(df)\n",
    "    \n",
    "    # Get recommendations for a sample user\n",
    "    i = np.random.randint(user_item_matrix.shape[0])\n",
    "    sample_user = user_item_matrix.index[i]\n",
    "    print(f\"\\nGetting recommendations for user {sample_user}...\")\n",
    "    recommended_songs, pred_scores = get_recommendations(\n",
    "        predictions, \n",
    "        user_item_matrix, \n",
    "        sample_user\n",
    "    )\n",
    "    \n",
    "    return recommended_songs, pred_scores"
   ]
  },
  {
   "cell_type": "code",
   "execution_count": 15,
   "metadata": {},
   "outputs": [
    {
     "name": "stdout",
     "output_type": "stream",
     "text": [
      "Creating user-item matrix...\n",
      "Matrix shape: (100, 83654)\n",
      "\n",
      "Performing SVD...\n",
      "U shape: (100, 10)\n",
      "Sigma shape: (10, 10)\n",
      "V^T shape: (10, 83654)\n",
      "\n",
      "Generating predictions...\n",
      "\n",
      "Getting recommendations for user 10...\n"
     ]
    }
   ],
   "source": [
    "recommended_songs, pred_scores = demonstrate_recommendations(user_data)"
   ]
  },
  {
   "cell_type": "code",
   "execution_count": 16,
   "metadata": {},
   "outputs": [
    {
     "data": {
      "text/plain": [
       "Index(['spotify:track:3hcUREHAHIjauQzwrxmJIk',\n",
       "       'spotify:track:37lnHXhscBSkFhkXFwOdaG',\n",
       "       'spotify:track:5B8pMIEuBMiuWkxSHIgICi',\n",
       "       'spotify:track:7GVRfHKoJJ47FE5DJI0zVS',\n",
       "       'spotify:track:5IBen7C8lk7y8memBXqFTa'],\n",
       "      dtype='object', name='uri')"
      ]
     },
     "execution_count": 16,
     "metadata": {},
     "output_type": "execute_result"
    }
   ],
   "source": [
    "recommended_songs"
   ]
  },
  {
   "cell_type": "code",
   "execution_count": null,
   "metadata": {},
   "outputs": [],
   "source": []
  }
 ],
 "metadata": {
  "kernelspec": {
   "display_name": "Python 3.9.15 ('base')",
   "language": "python",
   "name": "python3"
  },
  "language_info": {
   "codemirror_mode": {
    "name": "ipython",
    "version": 3
   },
   "file_extension": ".py",
   "mimetype": "text/x-python",
   "name": "python",
   "nbconvert_exporter": "python",
   "pygments_lexer": "ipython3",
   "version": "3.9.15"
  },
  "vscode": {
   "interpreter": {
    "hash": "b0b5e19b0de7feeb6e6bb5f9738d975aa3f5dabb2cb545fec106b49f43b6978a"
   }
  }
 },
 "nbformat": 4,
 "nbformat_minor": 2
}
