{
 "cells": [
  {
   "cell_type": "markdown",
   "metadata": {},
   "source": [
    "### This notebook demonstrates how to generate a user monthly listening trend dataset for the Mood.fm project."
   ]
  },
  {
   "cell_type": "code",
   "execution_count": 2,
   "metadata": {},
   "outputs": [],
   "source": [
    "import pandas as pd\n",
    "import numpy as np\n",
    "np.random.seed(10)"
   ]
  },
  {
   "cell_type": "code",
   "execution_count": 3,
   "metadata": {},
   "outputs": [
    {
     "data": {
      "text/html": [
       "<div>\n",
       "<style scoped>\n",
       "    .dataframe tbody tr th:only-of-type {\n",
       "        vertical-align: middle;\n",
       "    }\n",
       "\n",
       "    .dataframe tbody tr th {\n",
       "        vertical-align: top;\n",
       "    }\n",
       "\n",
       "    .dataframe thead th {\n",
       "        text-align: right;\n",
       "    }\n",
       "</style>\n",
       "<table border=\"1\" class=\"dataframe\">\n",
       "  <thead>\n",
       "    <tr style=\"text-align: right;\">\n",
       "      <th></th>\n",
       "      <th>duration (ms)</th>\n",
       "      <th>danceability</th>\n",
       "      <th>energy</th>\n",
       "      <th>loudness</th>\n",
       "      <th>speechiness</th>\n",
       "      <th>acousticness</th>\n",
       "      <th>instrumentalness</th>\n",
       "      <th>liveness</th>\n",
       "      <th>valence</th>\n",
       "      <th>tempo</th>\n",
       "      <th>spec_rate</th>\n",
       "      <th>labels</th>\n",
       "      <th>uri</th>\n",
       "      <th>user_id</th>\n",
       "      <th>group_no</th>\n",
       "    </tr>\n",
       "  </thead>\n",
       "  <tbody>\n",
       "    <tr>\n",
       "      <th>0</th>\n",
       "      <td>324240.0</td>\n",
       "      <td>0.407733</td>\n",
       "      <td>0.714</td>\n",
       "      <td>0.664428</td>\n",
       "      <td>0.311258</td>\n",
       "      <td>0.473896</td>\n",
       "      <td>0.000000</td>\n",
       "      <td>0.881797</td>\n",
       "      <td>0.216</td>\n",
       "      <td>0.400413</td>\n",
       "      <td>1.449544e-07</td>\n",
       "      <td>0.0</td>\n",
       "      <td>spotify:track:0lyvsvBtj2j0Edikx2fjhw</td>\n",
       "      <td>1</td>\n",
       "      <td>2</td>\n",
       "    </tr>\n",
       "    <tr>\n",
       "      <th>1</th>\n",
       "      <td>285753.0</td>\n",
       "      <td>0.177466</td>\n",
       "      <td>0.101</td>\n",
       "      <td>0.115246</td>\n",
       "      <td>0.313907</td>\n",
       "      <td>0.997992</td>\n",
       "      <td>0.382000</td>\n",
       "      <td>0.307329</td>\n",
       "      <td>0.122</td>\n",
       "      <td>0.624017</td>\n",
       "      <td>1.658775e-07</td>\n",
       "      <td>0.0</td>\n",
       "      <td>spotify:track:1gMc3PHvlQbOCChXj3ySHH</td>\n",
       "      <td>1</td>\n",
       "      <td>2</td>\n",
       "    </tr>\n",
       "    <tr>\n",
       "      <th>2</th>\n",
       "      <td>180570.0</td>\n",
       "      <td>0.429153</td>\n",
       "      <td>0.872</td>\n",
       "      <td>0.632533</td>\n",
       "      <td>0.287417</td>\n",
       "      <td>0.002651</td>\n",
       "      <td>0.000529</td>\n",
       "      <td>0.416076</td>\n",
       "      <td>0.690</td>\n",
       "      <td>0.731116</td>\n",
       "      <td>2.403500e-07</td>\n",
       "      <td>2.0</td>\n",
       "      <td>spotify:track:5WXSmZUK7MAtkcKoBPFyHm</td>\n",
       "      <td>1</td>\n",
       "      <td>2</td>\n",
       "    </tr>\n",
       "    <tr>\n",
       "      <th>3</th>\n",
       "      <td>191153.0</td>\n",
       "      <td>0.500910</td>\n",
       "      <td>0.816</td>\n",
       "      <td>0.665492</td>\n",
       "      <td>0.582207</td>\n",
       "      <td>0.068976</td>\n",
       "      <td>0.000000</td>\n",
       "      <td>0.401891</td>\n",
       "      <td>0.885</td>\n",
       "      <td>0.848131</td>\n",
       "      <td>4.754654e-07</td>\n",
       "      <td>1.0</td>\n",
       "      <td>spotify:track:3GSGkA3RNWcpjKGwTDps0M</td>\n",
       "      <td>1</td>\n",
       "      <td>2</td>\n",
       "    </tr>\n",
       "    <tr>\n",
       "      <th>4</th>\n",
       "      <td>207416.0</td>\n",
       "      <td>0.627289</td>\n",
       "      <td>0.759</td>\n",
       "      <td>0.625890</td>\n",
       "      <td>0.198013</td>\n",
       "      <td>0.457831</td>\n",
       "      <td>0.721000</td>\n",
       "      <td>0.225532</td>\n",
       "      <td>0.738</td>\n",
       "      <td>0.515581</td>\n",
       "      <td>1.441547e-07</td>\n",
       "      <td>0.0</td>\n",
       "      <td>spotify:track:5b6z5ySwNBomo3Ia7WeECC</td>\n",
       "      <td>1</td>\n",
       "      <td>2</td>\n",
       "    </tr>\n",
       "  </tbody>\n",
       "</table>\n",
       "</div>"
      ],
      "text/plain": [
       "   duration (ms)  danceability  energy  loudness  speechiness  acousticness  \\\n",
       "0       324240.0      0.407733   0.714  0.664428     0.311258      0.473896   \n",
       "1       285753.0      0.177466   0.101  0.115246     0.313907      0.997992   \n",
       "2       180570.0      0.429153   0.872  0.632533     0.287417      0.002651   \n",
       "3       191153.0      0.500910   0.816  0.665492     0.582207      0.068976   \n",
       "4       207416.0      0.627289   0.759  0.625890     0.198013      0.457831   \n",
       "\n",
       "   instrumentalness  liveness  valence     tempo     spec_rate  labels  \\\n",
       "0          0.000000  0.881797    0.216  0.400413  1.449544e-07     0.0   \n",
       "1          0.382000  0.307329    0.122  0.624017  1.658775e-07     0.0   \n",
       "2          0.000529  0.416076    0.690  0.731116  2.403500e-07     2.0   \n",
       "3          0.000000  0.401891    0.885  0.848131  4.754654e-07     1.0   \n",
       "4          0.721000  0.225532    0.738  0.515581  1.441547e-07     0.0   \n",
       "\n",
       "                                    uri  user_id  group_no  \n",
       "0  spotify:track:0lyvsvBtj2j0Edikx2fjhw        1         2  \n",
       "1  spotify:track:1gMc3PHvlQbOCChXj3ySHH        1         2  \n",
       "2  spotify:track:5WXSmZUK7MAtkcKoBPFyHm        1         2  \n",
       "3  spotify:track:3GSGkA3RNWcpjKGwTDps0M        1         2  \n",
       "4  spotify:track:5b6z5ySwNBomo3Ia7WeECC        1         2  "
      ]
     },
     "execution_count": 3,
     "metadata": {},
     "output_type": "execute_result"
    }
   ],
   "source": [
    "file_path = '../../datasets/simulated_user_dataset.csv'\n",
    "simulated_user_data = pd.read_csv(file_path)\n",
    "simulated_user_data.head()"
   ]
  },
  {
   "cell_type": "code",
   "execution_count": 4,
   "metadata": {},
   "outputs": [
    {
     "name": "stdout",
     "output_type": "stream",
     "text": [
      "1-month listening history saved to ../../datasets/user_month_datasets/user3_1month_listening_history.csv\n",
      "1-month listening history saved to ../../datasets/user_month_datasets/user4_1month_listening_history.csv\n",
      "1-month listening history saved to ../../datasets/user_month_datasets/user5_1month_listening_history.csv\n",
      "1-month listening history saved to ../../datasets/user_month_datasets/user6_1month_listening_history.csv\n",
      "1-month listening history saved to ../../datasets/user_month_datasets/user7_1month_listening_history.csv\n",
      "1-month listening history saved to ../../datasets/user_month_datasets/user8_1month_listening_history.csv\n",
      "1-month listening history saved to ../../datasets/user_month_datasets/user9_1month_listening_history.csv\n",
      "1-month listening history saved to ../../datasets/user_month_datasets/user10_1month_listening_history.csv\n"
     ]
    }
   ],
   "source": [
    "# Create 1-Month Listening History\n",
    "# We generate a sample of songs for each of the days, \n",
    "# ensuring that the sampled songs come from the user's group.\n",
    "\n",
    "num_days = 31\n",
    "songs_per_day = 50\n",
    "\n",
    "user_ids = np.arange(3, 11)\n",
    "for user_id in user_ids:\n",
    "    month_history = []\n",
    "    user_data = simulated_user_data[simulated_user_data['user_id'] == user_id]\n",
    "\n",
    "    group_no = user_data['group_no'].iloc[0]\n",
    "    for day in range(1, num_days + 1):\n",
    "        # Sample songs for the current day\n",
    "        day_sample = user_data.sample(n=songs_per_day, replace=True, random_state=day)\n",
    "        day_sample = day_sample.copy()\n",
    "        day_sample['day'] = day\n",
    "        month_history.append(day_sample)\n",
    "\n",
    "    month_history_df = pd.concat(month_history, ignore_index=True)\n",
    "    #month_history_df.head()\n",
    "    output_path = f'../../datasets/user_month_datasets/user{user_id}_1month_listening_history.csv'\n",
    "    month_history_df.to_csv(output_path, index=False)\n",
    "    print(f'1-month listening history saved to {output_path}')"
   ]
  },
  {
   "cell_type": "code",
   "execution_count": 6,
   "metadata": {},
   "outputs": [
    {
     "name": "stdout",
     "output_type": "stream",
     "text": [
      "1-month listening history saved to ../../datasets/user10_1month_listening_history.csv\n"
     ]
    }
   ],
   "source": [
    "# output_path = f'../../datasets/user{user_id}_1month_listening_history.csv'\n",
    "# month_history_df.to_csv(output_path, index=False)\n",
    "# print(f'1-month listening history saved to {output_path}')"
   ]
  },
  {
   "cell_type": "markdown",
   "metadata": {},
   "source": [
    "----------------------------------------------------------------"
   ]
  }
 ],
 "metadata": {
  "kernelspec": {
   "display_name": "Python 3.9.15 ('base')",
   "language": "python",
   "name": "python3"
  },
  "language_info": {
   "codemirror_mode": {
    "name": "ipython",
    "version": 3
   },
   "file_extension": ".py",
   "mimetype": "text/x-python",
   "name": "python",
   "nbconvert_exporter": "python",
   "pygments_lexer": "ipython3",
   "version": "3.9.15"
  },
  "orig_nbformat": 4,
  "vscode": {
   "interpreter": {
    "hash": "b0b5e19b0de7feeb6e6bb5f9738d975aa3f5dabb2cb545fec106b49f43b6978a"
   }
  }
 },
 "nbformat": 4,
 "nbformat_minor": 2
}
