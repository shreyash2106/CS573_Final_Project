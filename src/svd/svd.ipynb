{
 "cells": [
  {
   "cell_type": "code",
   "execution_count": 14,
   "metadata": {},
   "outputs": [],
   "source": [
    "import pandas as pd\n",
    "import numpy as np\n",
    "np.random.seed(10)"
   ]
  },
  {
   "cell_type": "code",
   "execution_count": 15,
   "metadata": {},
   "outputs": [],
   "source": [
    "import sys\n",
    "project_root = '../../src/'\n",
    "sys.path.insert(0, project_root)"
   ]
  },
  {
   "cell_type": "code",
   "execution_count": 16,
   "metadata": {},
   "outputs": [
    {
     "name": "stdout",
     "output_type": "stream",
     "text": [
      "   duration (ms)  danceability  energy  loudness  speechiness  acousticness  \\\n",
      "0       125036.0      0.682982  0.4480  0.454525     0.582207      0.844378   \n",
      "1       251480.0      0.884331  0.5360  0.580489     0.582207      0.048293   \n",
      "2       129962.0      0.832923  0.5750  0.392388     0.582207      0.018976   \n",
      "3       219333.0      0.358466  0.0525  0.467604     0.735099      0.897590   \n",
      "4       175733.0      0.716183  0.2920  0.535565     0.582207      0.292169   \n",
      "\n",
      "   instrumentalness  liveness  valence     tempo     spec_rate  labels  \\\n",
      "0          0.000000  0.188416    0.579  0.825227  4.754654e-07     0.0   \n",
      "1          0.000135  0.179196    0.744  0.601342  7.754096e-07     1.0   \n",
      "2          0.004970  0.447321    0.621  0.664681  4.754654e-07     2.0   \n",
      "3          0.177000  0.447321    0.036  0.561521  5.060798e-07     0.0   \n",
      "4          0.000748  0.546099    0.524  0.293744  4.754654e-07     0.0   \n",
      "\n",
      "                                    uri  user_id  group_no  day  \n",
      "0  spotify:track:0N57cNe2pMnZlDZsHPBpKR        1         2    1  \n",
      "1  spotify:track:79q5QdhFyadSwFzOZJ9ymG        1         2    1  \n",
      "2  spotify:track:1u6jmEdKp71ku0bgkuns7D        1         2    1  \n",
      "3  spotify:track:2BgvPUl8mpLAa2ABzHrEtO        1         2    1  \n",
      "4  spotify:track:2S8sebSU3YRqFdD7IZw7le        1         2    1  \n"
     ]
    }
   ],
   "source": [
    "user_data = pd.read_csv('../../datasets/seven_day_listening_history.csv')\n",
    "print(user_data.head())"
   ]
  },
  {
   "cell_type": "code",
   "execution_count": 17,
   "metadata": {},
   "outputs": [],
   "source": [
    "from scipy.sparse.linalg import svds\n",
    "\n",
    "def create_user_item_matrix(df):\n",
    "    \"\"\"\n",
    "    Step 1: Create the user-item matrix\n",
    "    - Rows represent users\n",
    "    - Columns represent songs (items)\n",
    "    - Values represent the interaction score\n",
    "    \"\"\"\n",
    "    # First, let's create an interaction score based on the features\n",
    "    feature_columns = [\n",
    "        'danceability', 'energy', 'loudness', 'speechiness',\n",
    "        'acousticness', 'instrumentalness', 'liveness', 'valence', 'tempo',\n",
    "        'duration (ms)', 'spec_rate', 'labels'\n",
    "    ]\n",
    "    \n",
    "    # Create an interaction score (average of normalized features)\n",
    "    df['interaction_score'] = np.mean(df[feature_columns], axis=1)\n",
    "    \n",
    "    # Create the user-item matrix\n",
    "    user_item_matrix = df.pivot_table(\n",
    "        index='user_id',\n",
    "        columns='uri',\n",
    "        values='interaction_score',\n",
    "        fill_value=0\n",
    "    )\n",
    "    \n",
    "    return user_item_matrix"
   ]
  },
  {
   "cell_type": "code",
   "execution_count": 18,
   "metadata": {},
   "outputs": [],
   "source": [
    "\n",
    "def perform_svd(matrix, k=10):\n",
    "    \"\"\"\n",
    "    Step 2: Perform SVD on the matrix\n",
    "    - Decompose matrix into U, Sigma, and V matrices\n",
    "    - k is the number of latent factors\n",
    "    \"\"\"\n",
    "    # Convert to numpy array\n",
    "    matrix_numpy = matrix.values\n",
    "    \n",
    "    # Center the matrix (subtract mean)\n",
    "    matrix_mean = np.mean(matrix_numpy, axis=1)\n",
    "    matrix_centered = matrix_numpy - matrix_mean.reshape(-1, 1)\n",
    "    \n",
    "    # Perform SVD\n",
    "    U, sigma, Vt = svds(matrix_centered, k=k)\n",
    "    \n",
    "    # Convert sigma to diagonal matrix\n",
    "    sigma = np.diag(sigma)\n",
    "    \n",
    "    return U, sigma, Vt, matrix_mean\n",
    "\n",
    "def reconstruct_matrix(U, sigma, Vt, matrix_mean):\n",
    "    \"\"\"\n",
    "    Step 3: Reconstruct the matrix to get predictions\n",
    "    - Multiply U, sigma, and V transpose\n",
    "    - Add back the mean\n",
    "    \"\"\"\n",
    "    # Reconstruct the matrix\n",
    "    predictions = np.dot(np.dot(U, sigma), Vt)\n",
    "    \n",
    "    # Add the mean back\n",
    "    predictions += matrix_mean.reshape(-1, 1)\n",
    "    \n",
    "    return predictions\n",
    "\n",
    "def get_recommendations(predictions, user_item_matrix, user_id, n_recommendations=5):\n",
    "    \"\"\"\n",
    "    Step 4: Generate recommendations for a user\n",
    "    - Find songs the user hasn't interacted with\n",
    "    - Rank them by predicted score\n",
    "    \"\"\"\n",
    "    # Get user index\n",
    "    user_idx = user_item_matrix.index.get_loc(user_id)\n",
    "    \n",
    "    # Get song indices and names\n",
    "    song_indices = np.arange(user_item_matrix.shape[1])\n",
    "    song_names = user_item_matrix.columns\n",
    "    \n",
    "    # Get user's predictions\n",
    "    user_predictions = predictions[user_idx]\n",
    "    \n",
    "    # Get indices of songs user hasn't interacted with\n",
    "    user_songs = user_item_matrix.iloc[user_idx].values\n",
    "    unlistened_songs = song_indices[user_songs == 0]\n",
    "    \n",
    "    # Get predictions for unlistened songs\n",
    "    unlistened_predictions = user_predictions[unlistened_songs]\n",
    "    \n",
    "    # Get top N recommendations\n",
    "    top_n_idx = np.argsort(unlistened_predictions)[-n_recommendations:][::-1]\n",
    "    recommended_song_indices = unlistened_songs[top_n_idx]\n",
    "    recommended_songs = song_names[recommended_song_indices]\n",
    "    \n",
    "    return recommended_songs, user_predictions[recommended_song_indices]"
   ]
  },
  {
   "cell_type": "code",
   "execution_count": 19,
   "metadata": {},
   "outputs": [],
   "source": [
    "import spotipy\n",
    "from spotipy.oauth2 import SpotifyClientCredentials\n",
    "\n",
    "# Set up Spotify API credentials\n",
    "client_id = '75d0ab19dcdc4db7821a27bf07df72a0'  # Replace with your Spotify client ID\n",
    "client_secret = 'f64897e446834d7cb83b1c90916242df'  # Replace with your Spotify client secret\n",
    "\n",
    "# Authenticate with Spotify\n",
    "client_credentials_manager = SpotifyClientCredentials(client_id=client_id, client_secret=client_secret)\n",
    "sp = spotipy.Spotify(client_credentials_manager=client_credentials_manager)\n",
    "\n",
    "# Function to extract song name from Spotify URL\n",
    "def get_song_names_from_url(song_urls):\n",
    "    song_names = []\n",
    "    for i in range(len(song_urls)):\n",
    "        track_id = song_urls[i].split(\"/\")[-1].split(\"?\")[0]  # Extract the track ID from the URL\n",
    "        track_info = sp.track(track_id)  # Get track information\n",
    "        song_name = track_info['name']  # Extract song name\n",
    "        artist_name = track_info['artists'][0]['name']  # Extract artist name\n",
    "        song_names.append(f\"{song_name} by {artist_name}\")\n",
    "    return song_names\n",
    "\n"
   ]
  },
  {
   "cell_type": "code",
   "execution_count": 20,
   "metadata": {},
   "outputs": [],
   "source": [
    "from constants.constants import group_mood_mapping\n",
    "\n",
    "def main_svd_pipeline(df, n_factors=10):\n",
    "    \"\"\"\n",
    "    Run the complete SVD pipeline\n",
    "    \"\"\"\n",
    "    # Step 1: Create user-item matrix\n",
    "    print(\"Creating user-item matrix...\")\n",
    "    user_item_matrix = create_user_item_matrix(df)\n",
    "    print(f\"Matrix shape: {user_item_matrix.shape}\")\n",
    "    \n",
    "    # Step 2: Perform SVD\n",
    "    print(\"\\nPerforming SVD...\")\n",
    "    U, sigma, Vt, matrix_mean = perform_svd(user_item_matrix, k=n_factors)\n",
    "    print(f\"U shape: {U.shape}\")\n",
    "    print(f\"Sigma shape: {sigma.shape}\")\n",
    "    print(f\"V^T shape: {Vt.shape}\")\n",
    "    \n",
    "    # Step 3: Generate predictions\n",
    "    print(\"\\nGenerating predictions...\")\n",
    "    predictions = reconstruct_matrix(U, sigma, Vt, matrix_mean)\n",
    "    \n",
    "    return user_item_matrix, predictions\n",
    "\n",
    "# Example usage\n",
    "def demonstrate_recommendations(df):\n",
    "    \"\"\"\n",
    "    Demonstrate the recommendation system\n",
    "    \"\"\"\n",
    "    # Run SVD pipeline\n",
    "    user_item_matrix, predictions = main_svd_pipeline(df)\n",
    "    \n",
    "    # Get recommendations for a sample user\n",
    "    i = np.random.randint(user_item_matrix.shape[0])\n",
    "    sample_user = user_item_matrix.index[i]\n",
    "    group_no = df.loc[df['user_id'] == sample_user, 'group_no'].iloc[0]\n",
    "    print(f\"\\nGetting recommendations for user {sample_user} from group {group_no} {group_mood_mapping[group_no]}...\")\n",
    "    recommended_songs, pred_scores = get_recommendations(\n",
    "        predictions, \n",
    "        user_item_matrix, \n",
    "        sample_user\n",
    "    )\n",
    "    recommended_songs = get_song_names_from_url(recommended_songs)\n",
    "    print(f\"\\n {recommended_songs}\")\n",
    "    \n",
    "    return recommended_songs, pred_scores"
   ]
  },
  {
   "cell_type": "code",
   "execution_count": 21,
   "metadata": {},
   "outputs": [
    {
     "name": "stdout",
     "output_type": "stream",
     "text": [
      "Creating user-item matrix...\n"
     ]
    }
   ],
   "source": [
    "recommended_songs, pred_scores = demonstrate_recommendations(user_data)"
   ]
  },
  {
   "cell_type": "code",
   "execution_count": null,
   "metadata": {},
   "outputs": [],
   "source": []
  }
 ],
 "metadata": {
  "kernelspec": {
   "display_name": "Python 3.9.15 ('base')",
   "language": "python",
   "name": "python3"
  },
  "language_info": {
   "codemirror_mode": {
    "name": "ipython",
    "version": 3
   },
   "file_extension": ".py",
   "mimetype": "text/x-python",
   "name": "python",
   "nbconvert_exporter": "python",
   "pygments_lexer": "ipython3",
   "version": "3.9.15"
  },
  "vscode": {
   "interpreter": {
    "hash": "b0b5e19b0de7feeb6e6bb5f9738d975aa3f5dabb2cb545fec106b49f43b6978a"
   }
  }
 },
 "nbformat": 4,
 "nbformat_minor": 2
}
